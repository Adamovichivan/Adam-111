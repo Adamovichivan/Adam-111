{
 "cells": [
  {
   "cell_type": "code",
   "execution_count": 4,
   "metadata": {},
   "outputs": [
    {
     "name": "stdout",
     "output_type": "stream",
     "text": [
      "Файл unit_data.xml успішно створено!\n"
     ]
    }
   ],
   "source": [
    "import xml.etree.ElementTree as ET\n",
    "\n",
    "def create_unit_data_xml(filename):\n",
    "    # Створення кореневого елементу\n",
    "    root = ET.Element(\"Units\")\n",
    "\n",
    "    # Створення елементу для підрозділу\n",
    "    unit = ET.SubElement(root, \"Unit\")\n",
    "    \n",
    "    # Додавання атрибутів для підрозділу\n",
    "    name = ET.SubElement(unit, \"Name\")\n",
    "    name.text = \"Підрозділ А\"\n",
    "\n",
    "    quantity = ET.SubElement(unit, \"Quantity\")\n",
    "    quantity.text = \"50\"  # Кількість особового складу\n",
    "\n",
    "    status = ET.SubElement(unit, \"Status\")\n",
    "    status.text = \"Готовий до дій\"  # Стан підрозділу\n",
    "\n",
    "    # Створення дерева і збереження у файл\n",
    "    tree = ET.ElementTree(root)\n",
    "    tree.write(filename, encoding=\"utf-8\", xml_declaration=True)\n",
    "\n",
    "    # Ось правильна команда для виведення повідомлення\n",
    "    print(f\"Файл {filename} успішно створено!\")\n",
    "\n",
    "# Виклик функції для створення XML-файлу\n",
    "create_unit_data_xml(\"unit_data.xml\")\n"
   ]
  }
 ],
 "metadata": {
  "kernelspec": {
   "display_name": "Python 3",
   "language": "python",
   "name": "python3"
  },
  "language_info": {
   "codemirror_mode": {
    "name": "ipython",
    "version": 3
   },
   "file_extension": ".py",
   "mimetype": "text/x-python",
   "name": "python",
   "nbconvert_exporter": "python",
   "pygments_lexer": "ipython3",
   "version": "3.11.8"
  }
 },
 "nbformat": 4,
 "nbformat_minor": 2
}
