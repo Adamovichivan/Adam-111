{
 "cells": [
  {
   "cell_type": "code",
   "execution_count": 2,
   "metadata": {},
   "outputs": [
    {
     "name": "stdout",
     "output_type": "stream",
     "text": [
      "Requirement already satisfied: beautifulsoup4 in c:\\users\\ваня\\appdata\\local\\programs\\python\\python311\\lib\\site-packages (4.12.3)\n",
      "Requirement already satisfied: soupsieve>1.2 in c:\\users\\ваня\\appdata\\local\\programs\\python\\python311\\lib\\site-packages (from beautifulsoup4) (2.6)\n",
      "Note: you may need to restart the kernel to use updated packages.\n"
     ]
    },
    {
     "name": "stderr",
     "output_type": "stream",
     "text": [
      "\n",
      "[notice] A new release of pip is available: 24.0 -> 24.3.1\n",
      "[notice] To update, run: python.exe -m pip install --upgrade pip\n"
     ]
    }
   ],
   "source": [
    "%pip install beautifulsoup4\n"
   ]
  },
  {
   "cell_type": "code",
   "execution_count": 4,
   "metadata": {},
   "outputs": [
    {
     "name": "stdout",
     "output_type": "stream",
     "text": [
      "Collecting requests\n",
      "  Downloading requests-2.32.3-py3-none-any.whl.metadata (4.6 kB)\n",
      "Collecting charset-normalizer<4,>=2 (from requests)\n",
      "  Downloading charset_normalizer-3.4.1-cp311-cp311-win_amd64.whl.metadata (36 kB)\n",
      "Collecting idna<4,>=2.5 (from requests)\n",
      "  Downloading idna-3.10-py3-none-any.whl.metadata (10 kB)\n",
      "Collecting urllib3<3,>=1.21.1 (from requests)\n",
      "  Downloading urllib3-2.3.0-py3-none-any.whl.metadata (6.5 kB)\n",
      "Collecting certifi>=2017.4.17 (from requests)\n",
      "  Downloading certifi-2024.12.14-py3-none-any.whl.metadata (2.3 kB)\n",
      "Downloading requests-2.32.3-py3-none-any.whl (64 kB)\n",
      "   ---------------------------------------- 0.0/64.9 kB ? eta -:--:--\n",
      "   ------------------------- -------------- 41.0/64.9 kB 2.0 MB/s eta 0:00:01\n",
      "   ---------------------------------------- 64.9/64.9 kB 1.2 MB/s eta 0:00:00\n",
      "Downloading certifi-2024.12.14-py3-none-any.whl (164 kB)\n",
      "   ---------------------------------------- 0.0/164.9 kB ? eta -:--:--\n",
      "   -------------- ------------------------- 61.4/164.9 kB 1.7 MB/s eta 0:00:01\n",
      "   ------------------------------------- -- 153.6/164.9 kB 1.5 MB/s eta 0:00:01\n",
      "   ---------------------------------------- 164.9/164.9 kB 1.4 MB/s eta 0:00:00\n",
      "Downloading charset_normalizer-3.4.1-cp311-cp311-win_amd64.whl (102 kB)\n",
      "   ---------------------------------------- 0.0/102.4 kB ? eta -:--:--\n",
      "   ---------------------------------------- 102.4/102.4 kB 3.0 MB/s eta 0:00:00\n",
      "Downloading idna-3.10-py3-none-any.whl (70 kB)\n",
      "   ---------------------------------------- 0.0/70.4 kB ? eta -:--:--\n",
      "   ---------------------------------- ----- 61.4/70.4 kB 3.2 MB/s eta 0:00:01\n",
      "   ---------------------------------------- 70.4/70.4 kB 1.9 MB/s eta 0:00:00\n",
      "Downloading urllib3-2.3.0-py3-none-any.whl (128 kB)\n",
      "   ---------------------------------------- 0.0/128.4 kB ? eta -:--:--\n",
      "   ----------------------------------- ---- 112.6/128.4 kB 3.2 MB/s eta 0:00:01\n",
      "   ---------------------------------------- 128.4/128.4 kB 2.5 MB/s eta 0:00:00\n",
      "Installing collected packages: urllib3, idna, charset-normalizer, certifi, requests\n",
      "Successfully installed certifi-2024.12.14 charset-normalizer-3.4.1 idna-3.10 requests-2.32.3 urllib3-2.3.0\n",
      "Note: you may need to restart the kernel to use updated packages.\n"
     ]
    },
    {
     "name": "stderr",
     "output_type": "stream",
     "text": [
      "  WARNING: The script normalizer.exe is installed in 'c:\\Users\\Ваня\\AppData\\Local\\Programs\\Python\\Python311\\Scripts' which is not on PATH.\n",
      "  Consider adding this directory to PATH or, if you prefer to suppress this warning, use --no-warn-script-location.\n",
      "\n",
      "[notice] A new release of pip is available: 24.0 -> 24.3.1\n",
      "[notice] To update, run: python.exe -m pip install --upgrade pip\n"
     ]
    }
   ],
   "source": [
    "%pip install requests"
   ]
  },
  {
   "cell_type": "code",
   "execution_count": 5,
   "metadata": {},
   "outputs": [
    {
     "name": "stdout",
     "output_type": "stream",
     "text": [
      "Збираємо заголовки та дати...\n",
      "Знайдені пости:\n",
      "1. 21 Грудня, 2024 13:00 - У Збройних Силах України створено підрозділ із захисту культурної спадщини\n",
      "2. 21 Грудня, 2024 8:10 - Оперативна інформація станом на 08.00 21.12.2024 щодо російського вторгнення\n",
      "3. 20 Грудня, 2024 19:30 - Головнокомандувач Збройний Сил України спростував інформацію про оточення підрозділів\n",
      "4. 20 Грудня, 2024 18:30 - Брифінг Командування Медичних сил ЗСУ: Актуальні питання військово-лікарської комісії та підготовки медиків\n",
      "5. 20 Грудня, 2024 18:00 - Інноваційні безпілотні системи та технології для Збройних Сил України\n",
      "6. 20 Грудня, 2024 8:30 - Black Widow Web 10: успіх українських інновацій у військовій техніці\n",
      "7. 20 Грудня, 2024 8:10 - Оперативна інформація станом на 08.00 20.12.2024 щодо російського вторгнення\n",
      "8. 19 Грудня, 2024 19:00 - Головнокомандувач ЗС України: Технології змінюють тактику на полі бою – інтерв’ю для Le Monde\n",
      "9. 19 Грудня, 2024 16:25 - Новий Сервіс Армії+: швидке повернення на службу та можливість переведення в іншу частину\n",
      "10. 19 Грудня, 2024 12:15 - Українська писанка та кобзарсько-лірницькі традиції включені до Реєстру кращих практик з охорони нематеріальної культурної спадщини\n"
     ]
    }
   ],
   "source": [
    "import requests\n",
    "from bs4 import BeautifulSoup\n",
    "\n",
    "# URL сторінки для парсингу\n",
    "URL = \"https://www.zsu.gov.ua/category/news/page/6/\"\n",
    "\n",
    "# Функція для збору заголовків та дат\n",
    "def scrape_titles_and_dates(url):\n",
    "    try:\n",
    "        # Заголовки для запиту\n",
    "        headers = {\n",
    "            \"User-Agent\": \"Mozilla/5.0 (Windows NT 10.0; Win64; x64) AppleWebKit/537.36 (KHTML, like Gecko) Chrome/91.0.4472.124 Safari/537.36\",\n",
    "            \"Accept-Language\": \"en-US,en;q=0.9\",\n",
    "            \"Referer\": \"https://www.zsu.gov.ua/\"\n",
    "        }\n",
    "        \n",
    "        # Надсилаємо запит\n",
    "        response = requests.get(url, headers=headers)\n",
    "        response.raise_for_status()\n",
    "        \n",
    "        # Парсимо HTML\n",
    "        soup = BeautifulSoup(response.text, 'html.parser')\n",
    "        \n",
    "        # Збираємо всі блоки опису постів\n",
    "        posts = soup.find_all('div', class_='post__description')\n",
    "        \n",
    "        # Збираємо дати та заголовки\n",
    "        data = []\n",
    "        for post in posts:\n",
    "            date = post.find('div', class_='post__date').get_text(strip=True)\n",
    "            title = post.find('div', class_='post__title').get_text(strip=True)\n",
    "            data.append({\"date\": date, \"title\": title})\n",
    "        \n",
    "        return data\n",
    "    except requests.RequestException as e:\n",
    "        print(f\"Помилка запиту: {e}\")\n",
    "        return []\n",
    "    except Exception as e:\n",
    "        print(f\"Помилка парсингу: {e}\")\n",
    "        return []\n",
    "\n",
    "# Основний код\n",
    "if __name__ == \"__main__\":\n",
    "    print(\"Збираємо заголовки та дати...\")\n",
    "    posts_data = scrape_titles_and_dates(URL)\n",
    "    \n",
    "    if posts_data:\n",
    "        print(\"Знайдені пости:\")\n",
    "        for idx, post in enumerate(posts_data, start=1):\n",
    "            print(f\"{idx}. {post['date']} - {post['title']}\")\n",
    "    else:\n",
    "        print(\"Жодних даних не знайдено.\")"
   ]
  }
 ],
 "metadata": {
  "kernelspec": {
   "display_name": "Python 3",
   "language": "python",
   "name": "python3"
  },
  "language_info": {
   "codemirror_mode": {
    "name": "ipython",
    "version": 3
   },
   "file_extension": ".py",
   "mimetype": "text/x-python",
   "name": "python",
   "nbconvert_exporter": "python",
   "pygments_lexer": "ipython3",
   "version": "3.11.8"
  }
 },
 "nbformat": 4,
 "nbformat_minor": 2
}
