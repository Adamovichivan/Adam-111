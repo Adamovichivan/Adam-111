{
 "cells": [
  {
   "cell_type": "markdown",
   "metadata": {},
   "source": [
    "## Крок 2. Робота з Markdown у Jupyter Notebook\n",
    "\n",
    "### Завдання 2.1\n",
    "\n",
    "1. Створіть нову комірку з типом **Markdown**.  \n",
    "2. Додайте до неї інформацію про себе (ім’я, групу, email).  \n",
    "3. Використайте хоча б один заголовок (наприклад, `#` або `##`) і хоча б один елемент списку (нумерований або маркований).  \n",
    "\n",
    "> **Підказка щодо розмітки:**  \n",
    "> - Заголовок: `# Заголовок`, `## Підзаголовок`, …  \n",
    "> - Списки:  \n",
    ">   - Маркований: `- Пункт` або `* Пункт`  \n",
    ">   - Нумерований: `1. Пункт`, `2. Пункт`  \n",
    "\n",
    "\n"
   ]
  },
  {
   "cell_type": "markdown",
   "metadata": {},
   "source": [
    "# 5206 #\n",
    "## Адамович ##\n",
    "Adamovich: \n",
    "1. Анна. \n",
    "2. Володимир.\n",
    "3. Софія.\n"
   ]
  },
  {
   "cell_type": "markdown",
   "metadata": {},
   "source": [
    " "
   ]
  },
  {
   "cell_type": "code",
   "execution_count": 2,
   "metadata": {},
   "outputs": [
    {
     "name": "stdout",
     "output_type": "stream",
     "text": [
      "Привіт, це моя перша робота з Jupyter Notebook у VS Code!\n"
     ]
    }
   ],
   "source": [
    "print(\"Привіт, це моя перша робота з Jupyter Notebook у VS Code!\")"
   ]
  },
  {
   "cell_type": "markdown",
   "metadata": {},
   "source": [
    "\n",
    "\n",
    "## Крок 4. Основи Python: змінні, типи даних, введення/виведення\n",
    "\n",
    "### Завдання 4.1. Змінні та типи даних\n",
    "\n",
    "1. Створіть нову комірку **Code**.  \n",
    "2. Оголосіть декілька змінних різних типів: рядок (str), ціле число (int), дійсне число (float) і логічне значення (bool).  \n",
    "3. Виведіть їх на екран за допомогою функції `print()`.  \n",
    "4. Перевірте та виведіть тип кожної змінної за допомогою функції `type()`.\n",
    "\n",
    "**Приклад коду:**\n",
    "\n",
    "```python\n",
    "name = \"Petro\"  # str\n",
    "age = 20        # int\n",
    "height = 1.75   # float\n",
    "is_student = True  # bool\n",
    "\n",
    "print(name, age, height, is_student)\n",
    "print(type(name), type(age), type(height), type(is_student))\n",
    "```\n"
   ]
  },
  {
   "cell_type": "code",
   "execution_count": 4,
   "metadata": {},
   "outputs": [
    {
     "name": "stdout",
     "output_type": "stream",
     "text": [
      "Іван 39 1.7 True\n",
      "<class 'str'> <class 'int'> <class 'float'> <class 'bool'>\n"
     ]
    }
   ],
   "source": [
    "name = \"Іван\"  # str\n",
    "age = 39        # int\n",
    "height = 1.70   # float\n",
    "is_student = True  # bool\n",
    "\n",
    "print(name, age, height, is_student)\n",
    "print(type(name), type(age), type(height), type(is_student))"
   ]
  },
  {
   "cell_type": "code",
   "execution_count": 6,
   "metadata": {},
   "outputs": [
    {
     "name": "stdout",
     "output_type": "stream",
     "text": [
      "Результат множення 8 на 2: 16\n"
     ]
    }
   ],
   "source": [
    "user_input = input(\"Введіть ціле число: \")\n",
    "number = int(user_input)  # перетворюємо з рядка у ціле\n",
    "result = number * 2\n",
    "print(f\"Результат множення {number} на 2: {result}\")"
   ]
  },
  {
   "cell_type": "code",
   "execution_count": 7,
   "metadata": {},
   "outputs": [
    {
     "name": "stdout",
     "output_type": "stream",
     "text": [
      "Вітаємо! Ви повнолітній.\n"
     ]
    }
   ],
   "source": [
    "\n",
    "age = int(input(\"Введіть ваш вік: \"))\n",
    "if age < 18:\n",
    "    print(\"Ви ще неповнолітній.\")\n",
    "else:\n",
    "    print(\"Вітаємо! Ви повнолітній.\")"
   ]
  },
  {
   "cell_type": "code",
   "execution_count": 8,
   "metadata": {},
   "outputs": [
    {
     "name": "stdout",
     "output_type": "stream",
     "text": [
      "0\n",
      "1\n",
      "2\n",
      "3\n",
      "4\n",
      "5\n",
      "6\n",
      "7\n",
      "8\n",
      "9\n",
      "10\n",
      "11\n",
      "12\n",
      "13\n",
      "14\n",
      "15\n",
      "16\n"
     ]
    }
   ],
   "source": [
    "for i in range(1+ 6+10):\n",
    "    print(i)"
   ]
  },
  {
   "cell_type": "code",
   "execution_count": 9,
   "metadata": {},
   "outputs": [
    {
     "name": "stdout",
     "output_type": "stream",
     "text": [
      "16\n",
      "15\n",
      "14\n",
      "13\n",
      "12\n",
      "11\n",
      "10\n",
      "9\n",
      "8\n",
      "7\n",
      "6\n",
      "5\n",
      "4\n",
      "3\n",
      "2\n",
      "1\n"
     ]
    }
   ],
   "source": [
    "j = 6+10\n",
    "while j >= 1:\n",
    "    print(j)\n",
    "    j -= 1"
   ]
  },
  {
   "cell_type": "markdown",
   "metadata": {},
   "source": [
    "\n",
    "## Крок 6. Додаткове завдання \n",
    "\n",
    "Спробуйте реалізувати просту програму-калькулятор, яка вміє виконувати 4 операції: додавання, віднімання, множення та ділення.\n",
    "\n",
    "**Приклад алгоритму:**\n",
    "1. Запитайте у користувача два числа.  \n",
    "2. Запитайте, яку операцію бажає виконати користувач: `+`, `-`, `*` чи `/`.  \n",
    "3. Залежно від вибраної операції виконайте дію і виведіть результат.  \n",
    "4. Опрацюйте випадок ділення на нуль.\n",
    "\n",
    "```python\n",
    "print(\"Простий калькулятор\")\n",
    "\n",
    "num1 = float(input(\"Введіть перше число: \"))\n",
    "num2 = float(input(\"Введіть друге число: \"))\n",
    "operation = input(\"Оберіть операцію (+, -, *, /): \")\n",
    "\n",
    "if operation == \"+\":\n",
    "    result = num1 + num2\n",
    "elif operation == \"-\":\n",
    "    result = num1 - num2\n",
    "elif operation == \"*\":\n",
    "    result = num1 * num2\n",
    "elif operation == \"/\":\n",
    "    if num2 == 0:\n",
    "        result = \"Помилка: ділення на нуль!\"\n",
    "    else:\n",
    "        result = num1 / num2\n",
    "else:\n",
    "    result = \"Невідома операція!\"\n",
    "\n",
    "print(\"Результат:\", result)\n",
    "```\n",
    "\n"
   ]
  },
  {
   "cell_type": "code",
   "execution_count": 10,
   "metadata": {},
   "outputs": [
    {
     "name": "stdout",
     "output_type": "stream",
     "text": [
      "Простий калькулятор\n",
      "Результат: 8.0\n"
     ]
    }
   ],
   "source": [
    "\n",
    "print(\"Простий калькулятор\")\n",
    "\n",
    "num1 = float(input(\"Введіть перше число: \"))\n",
    "num2 = float(input(\"Введіть друге число: \"))\n",
    "operation = input(\"Оберіть операцію (+, -, *, /): \")\n",
    "\n",
    "if operation == \"+\":\n",
    "    result = num1 + num2\n",
    "elif operation == \"-\":\n",
    "    result = num1 - num2\n",
    "elif operation == \"*\":\n",
    "    result = num1 * num2\n",
    "elif operation == \"/\":\n",
    "    if num2 == 0:\n",
    "        result = \"Помилка: ділення на нуль!\"\n",
    "    else:\n",
    "        result = num1 / num2\n",
    "else:\n",
    "    result = \"Невідома операція!\"\n",
    "\n",
    "print(\"Результат:\", result)"
   ]
  }
 ],
 "metadata": {
  "kernelspec": {
   "display_name": "Python 3",
   "language": "python",
   "name": "python3"
  },
  "language_info": {
   "codemirror_mode": {
    "name": "ipython",
    "version": 3
   },
   "file_extension": ".py",
   "mimetype": "text/x-python",
   "name": "python",
   "nbconvert_exporter": "python",
   "pygments_lexer": "ipython3",
   "version": "3.11.8"
  }
 },
 "nbformat": 4,
 "nbformat_minor": 2
}
